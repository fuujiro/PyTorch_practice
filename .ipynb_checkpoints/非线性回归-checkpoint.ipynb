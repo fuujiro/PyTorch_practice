{
 "cells": [
  {
   "cell_type": "code",
   "execution_count": 4,
   "metadata": {},
   "outputs": [],
   "source": [
    "import numpy as np\n",
    "import matplotlib.pyplot as plt\n",
    "from torch import nn,optim\n",
    "from torch.autograd import Variable\n",
    "import torch"
   ]
  },
  {
   "cell_type": "code",
   "execution_count": 5,
   "metadata": {},
   "outputs": [
    {
     "data": {
      "text/plain": [
       "<matplotlib.collections.PathCollection at 0x7fa1a3062c10>"
      ]
     },
     "execution_count": 5,
     "metadata": {},
     "output_type": "execute_result"
    },
    {
     "data": {
      "image/png": "[encoded data removed]",
      "text/plain": [
       "<Figure size 432x288 with 1 Axes>"
      ]
     },
     "metadata": {
      "needs_background": "light"
     },
     "output_type": "display_data"
    }
   ],
   "source": [
    "x_data = np.random.rand(100)\n",
    "noise = np.random.normal(0,0.01,x_data.shape)\n",
    "y_data = x_data*0.1 + 0.2 + noise\n",
    "\n",
    "plt.scatter(x_data,y_data)"
   ]
  },
  {
   "cell_type": "code",
   "execution_count": 6,
   "metadata": {},
   "outputs": [],
   "source": [
    "x_data = x_data.reshape(-1,1)\n",
    "y_data = y_data.reshape(-1,1)"
   ]
  },
  {
   "cell_type": "code",
   "execution_count": 7,
   "metadata": {},
   "outputs": [],
   "source": [
    "# 把numpy数据变成tensor\n",
    "x_data = torch.FloatTensor(x_data)\n",
    "y_data = torch.FloatTensor(y_data)\n",
    "inputs = Variable(x_data)\n",
    "target = Variable(y_data)"
   ]
  },
  {
   "cell_type": "code",
   "execution_count": 8,
   "metadata": {},
   "outputs": [],
   "source": [
    "# 构建神经网络模型\n",
    "# 一般把网络中具有可学习参数的层放在__init__()中\n",
    "class LinearRegression(nn.Module):\n",
    "    # 定义网络结构\n",
    "    def __init__(self):\n",
    "        # 初始化nn.Module\n",
    "        super(LinearRegression,self).__init__()\n",
    "        self.fc = nn.Linear(1,1)\n",
    "        \n",
    "    # 定义网络计算\n",
    "    def forward(self,x):\n",
    "        out = self.fc(x)\n",
    "        return out"
   ]
  },
  {
   "cell_type": "code",
   "execution_count": 27,
   "metadata": {},
   "outputs": [],
   "source": [
    "# 定义模型\n",
    "model = LinearRegression()\n",
    "# 定义代价函数\n",
    "mse_loss = nn.MSELoss()\n",
    "# 定义优化器\n",
    "optimizer = optim.SGD(model.parameters(),lr=0.1)"
   ]
  },
  {
   "cell_type": "code",
   "execution_count": 28,
   "metadata": {},
   "outputs": [
    {
     "name": "stdout",
     "output_type": "stream",
     "text": [
      "name:fc.weight,param:Parameter containing:\n",
      "tensor([[0.5573]], requires_grad=True)\n",
      "name:fc.bias,param:Parameter containing:\n",
      "tensor([0.7145], requires_grad=True)\n"
     ]
    }
   ],
   "source": [
    "for name, parameters in model.named_parameters():\n",
    "    print('name:{},param:{}'.format(name,parameters))"
   ]
  },
  {
   "cell_type": "code",
   "execution_count": 29,
   "metadata": {},
   "outputs": [
    {
     "name": "stdout",
     "output_type": "stream",
     "text": [
      "0 0.5765990614891052\n",
      "200 0.00011481494584586471\n",
      "400 0.00010414184362161905\n",
      "600 0.00010405766079202294\n",
      "800 0.00010405696230009198\n",
      "1000 0.00010405696230009198\n"
     ]
    }
   ],
   "source": [
    "for i in range(1001):\n",
    "    out = model(inputs)\n",
    "    # 计算loss\n",
    "    loss = mse_loss(out,target)\n",
    "    # 梯度清零\n",
    "    optimizer.zero_grad()\n",
    "    # 计算梯度\n",
    "    loss.backward()\n",
    "    # 修改权值\n",
    "    optimizer.step()\n",
    "    if i%200 == 0:\n",
    "        print(i,loss.item())"
   ]
  },
  {
   "cell_type": "code",
   "execution_count": 30,
   "metadata": {},
   "outputs": [
    {
     "data": {
      "image/png": "[encoded data removed]",
      "text/plain": [
       "<Figure size 432x288 with 1 Axes>"
      ]
     },
     "metadata": {
      "needs_background": "light"
     },
     "output_type": "display_data"
    }
   ],
   "source": [
    "y_pred = model(inputs)\n",
    "plt.scatter(x_data,y_data)\n",
    "plt.plot(x_data,y_pred.data.numpy(),'r-',lw=3)\n",
    "plt.show()"
   ]
  },
  {
   "cell_type": "code",
   "execution_count": null,
   "metadata": {},
   "outputs": [],
   "source": []
  }
 ],
 "metadata": {
  "kernelspec": {
   "display_name": "Python 3",
   "language": "python",
   "name": "python3"
  },
  "language_info": {
   "codemirror_mode": {
    "name": "ipython",
    "version": 3
   },
   "file_extension": ".py",
   "mimetype": "text/x-python",
   "name": "python",
   "nbconvert_exporter": "python",
   "pygments_lexer": "ipython3",
   "version": "3.7.4"
  }
 },
 "nbformat": 4,
 "nbformat_minor": 2
}
